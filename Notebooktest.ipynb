{
 "cells": [
  {
   "cell_type": "code",
   "execution_count": 6,
   "metadata": {
    "ExecuteTime": {
     "end_time": "2024-02-21T14:28:48.744324800Z",
     "start_time": "2024-02-21T14:28:48.288285400Z"
    }
   },
   "outputs": [],
   "source": [
    "import pandas as pd # 引入Pandas库，按惯例起别名pd\n",
    "df = pd.read_excel('https://www.gairuo.com/file/data/dataset/team.xlsx')"
   ]
  },
  {
   "cell_type": "code",
   "execution_count": 7,
   "metadata": {
    "ExecuteTime": {
     "end_time": "2024-02-21T14:28:51.352501300Z",
     "start_time": "2024-02-21T14:28:51.324985900Z"
    }
   },
   "outputs": [
    {
     "data": {
      "text/plain": "        name team  Q1  Q2  Q3  Q4\n0      Liver    E  89  21  24  64\n1       Arry    C  36  37  37  57\n2        Ack    A  57  60  18  84\n3      Eorge    C  93  96  71  78\n4        Oah    D  65  49  61  86\n..       ...  ...  ..  ..  ..  ..\n95   Gabriel    C  48  59  87  74\n96   Austin7    C  21  31  30  43\n97  Lincoln4    C  98  93   1  20\n98       Eli    E  11  74  58  91\n99       Ben    E  21  43  41  74\n\n[100 rows x 6 columns]",
      "text/html": "<div>\n<style scoped>\n    .dataframe tbody tr th:only-of-type {\n        vertical-align: middle;\n    }\n\n    .dataframe tbody tr th {\n        vertical-align: top;\n    }\n\n    .dataframe thead th {\n        text-align: right;\n    }\n</style>\n<table border=\"1\" class=\"dataframe\">\n  <thead>\n    <tr style=\"text-align: right;\">\n      <th></th>\n      <th>name</th>\n      <th>team</th>\n      <th>Q1</th>\n      <th>Q2</th>\n      <th>Q3</th>\n      <th>Q4</th>\n    </tr>\n  </thead>\n  <tbody>\n    <tr>\n      <th>0</th>\n      <td>Liver</td>\n      <td>E</td>\n      <td>89</td>\n      <td>21</td>\n      <td>24</td>\n      <td>64</td>\n    </tr>\n    <tr>\n      <th>1</th>\n      <td>Arry</td>\n      <td>C</td>\n      <td>36</td>\n      <td>37</td>\n      <td>37</td>\n      <td>57</td>\n    </tr>\n    <tr>\n      <th>2</th>\n      <td>Ack</td>\n      <td>A</td>\n      <td>57</td>\n      <td>60</td>\n      <td>18</td>\n      <td>84</td>\n    </tr>\n    <tr>\n      <th>3</th>\n      <td>Eorge</td>\n      <td>C</td>\n      <td>93</td>\n      <td>96</td>\n      <td>71</td>\n      <td>78</td>\n    </tr>\n    <tr>\n      <th>4</th>\n      <td>Oah</td>\n      <td>D</td>\n      <td>65</td>\n      <td>49</td>\n      <td>61</td>\n      <td>86</td>\n    </tr>\n    <tr>\n      <th>...</th>\n      <td>...</td>\n      <td>...</td>\n      <td>...</td>\n      <td>...</td>\n      <td>...</td>\n      <td>...</td>\n    </tr>\n    <tr>\n      <th>95</th>\n      <td>Gabriel</td>\n      <td>C</td>\n      <td>48</td>\n      <td>59</td>\n      <td>87</td>\n      <td>74</td>\n    </tr>\n    <tr>\n      <th>96</th>\n      <td>Austin7</td>\n      <td>C</td>\n      <td>21</td>\n      <td>31</td>\n      <td>30</td>\n      <td>43</td>\n    </tr>\n    <tr>\n      <th>97</th>\n      <td>Lincoln4</td>\n      <td>C</td>\n      <td>98</td>\n      <td>93</td>\n      <td>1</td>\n      <td>20</td>\n    </tr>\n    <tr>\n      <th>98</th>\n      <td>Eli</td>\n      <td>E</td>\n      <td>11</td>\n      <td>74</td>\n      <td>58</td>\n      <td>91</td>\n    </tr>\n    <tr>\n      <th>99</th>\n      <td>Ben</td>\n      <td>E</td>\n      <td>21</td>\n      <td>43</td>\n      <td>41</td>\n      <td>74</td>\n    </tr>\n  </tbody>\n</table>\n<p>100 rows × 6 columns</p>\n</div>"
     },
     "execution_count": 7,
     "metadata": {},
     "output_type": "execute_result"
    }
   ],
   "source": [
    "df  # 直接显示读取到的xlsx文件"
   ]
  },
  {
   "cell_type": "markdown",
   "source": [
    "## 1.3.4查看数据\n",
    "df.head() # 查看前5条，括号里可以写明你想看的条数\n",
    "df.tail() # 查看尾部5条\n",
    "df.sample(5) # 随机查看5条"
   ],
   "metadata": {
    "collapsed": false
   }
  },
  {
   "cell_type": "code",
   "execution_count": 9,
   "metadata": {
    "ExecuteTime": {
     "end_time": "2024-02-21T14:30:55.151695500Z",
     "start_time": "2024-02-21T14:30:55.138210800Z"
    }
   },
   "outputs": [
    {
     "data": {
      "text/plain": "    name team  Q1  Q2  Q3  Q4\n0  Liver    E  89  21  24  64\n1   Arry    C  36  37  37  57\n2    Ack    A  57  60  18  84",
      "text/html": "<div>\n<style scoped>\n    .dataframe tbody tr th:only-of-type {\n        vertical-align: middle;\n    }\n\n    .dataframe tbody tr th {\n        vertical-align: top;\n    }\n\n    .dataframe thead th {\n        text-align: right;\n    }\n</style>\n<table border=\"1\" class=\"dataframe\">\n  <thead>\n    <tr style=\"text-align: right;\">\n      <th></th>\n      <th>name</th>\n      <th>team</th>\n      <th>Q1</th>\n      <th>Q2</th>\n      <th>Q3</th>\n      <th>Q4</th>\n    </tr>\n  </thead>\n  <tbody>\n    <tr>\n      <th>0</th>\n      <td>Liver</td>\n      <td>E</td>\n      <td>89</td>\n      <td>21</td>\n      <td>24</td>\n      <td>64</td>\n    </tr>\n    <tr>\n      <th>1</th>\n      <td>Arry</td>\n      <td>C</td>\n      <td>36</td>\n      <td>37</td>\n      <td>37</td>\n      <td>57</td>\n    </tr>\n    <tr>\n      <th>2</th>\n      <td>Ack</td>\n      <td>A</td>\n      <td>57</td>\n      <td>60</td>\n      <td>18</td>\n      <td>84</td>\n    </tr>\n  </tbody>\n</table>\n</div>"
     },
     "execution_count": 9,
     "metadata": {},
     "output_type": "execute_result"
    }
   ],
   "source": [
    "df.head(3)  # 查看前3条，()默认5条，索引从0开始，0,1,2"
   ]
  },
  {
   "cell_type": "code",
   "execution_count": 11,
   "metadata": {
    "ExecuteTime": {
     "end_time": "2024-02-21T15:56:53.953370100Z",
     "start_time": "2024-02-21T15:56:53.927419200Z"
    }
   },
   "outputs": [
    {
     "data": {
      "text/plain": "        name team  Q1  Q2  Q3  Q4\n97  Lincoln4    C  98  93   1  20\n98       Eli    E  11  74  58  91\n99       Ben    E  21  43  41  74",
      "text/html": "<div>\n<style scoped>\n    .dataframe tbody tr th:only-of-type {\n        vertical-align: middle;\n    }\n\n    .dataframe tbody tr th {\n        vertical-align: top;\n    }\n\n    .dataframe thead th {\n        text-align: right;\n    }\n</style>\n<table border=\"1\" class=\"dataframe\">\n  <thead>\n    <tr style=\"text-align: right;\">\n      <th></th>\n      <th>name</th>\n      <th>team</th>\n      <th>Q1</th>\n      <th>Q2</th>\n      <th>Q3</th>\n      <th>Q4</th>\n    </tr>\n  </thead>\n  <tbody>\n    <tr>\n      <th>97</th>\n      <td>Lincoln4</td>\n      <td>C</td>\n      <td>98</td>\n      <td>93</td>\n      <td>1</td>\n      <td>20</td>\n    </tr>\n    <tr>\n      <th>98</th>\n      <td>Eli</td>\n      <td>E</td>\n      <td>11</td>\n      <td>74</td>\n      <td>58</td>\n      <td>91</td>\n    </tr>\n    <tr>\n      <th>99</th>\n      <td>Ben</td>\n      <td>E</td>\n      <td>21</td>\n      <td>43</td>\n      <td>41</td>\n      <td>74</td>\n    </tr>\n  </tbody>\n</table>\n</div>"
     },
     "execution_count": 11,
     "metadata": {},
     "output_type": "execute_result"
    }
   ],
   "source": [
    "df.tail(3)  # 查看倒数3行，()默认3条"
   ]
  },
  {
   "cell_type": "code",
   "execution_count": 12,
   "metadata": {
    "ExecuteTime": {
     "end_time": "2024-02-21T16:00:59.432107500Z",
     "start_time": "2024-02-21T16:00:59.409444400Z"
    }
   },
   "outputs": [
    {
     "data": {
      "text/plain": "      name team  Q1  Q2  Q3  Q4\n30  Edward    B  57  38  86  87\n15   James    E  48  77  52  11",
      "text/html": "<div>\n<style scoped>\n    .dataframe tbody tr th:only-of-type {\n        vertical-align: middle;\n    }\n\n    .dataframe tbody tr th {\n        vertical-align: top;\n    }\n\n    .dataframe thead th {\n        text-align: right;\n    }\n</style>\n<table border=\"1\" class=\"dataframe\">\n  <thead>\n    <tr style=\"text-align: right;\">\n      <th></th>\n      <th>name</th>\n      <th>team</th>\n      <th>Q1</th>\n      <th>Q2</th>\n      <th>Q3</th>\n      <th>Q4</th>\n    </tr>\n  </thead>\n  <tbody>\n    <tr>\n      <th>30</th>\n      <td>Edward</td>\n      <td>B</td>\n      <td>57</td>\n      <td>38</td>\n      <td>86</td>\n      <td>87</td>\n    </tr>\n    <tr>\n      <th>15</th>\n      <td>James</td>\n      <td>E</td>\n      <td>48</td>\n      <td>77</td>\n      <td>52</td>\n      <td>11</td>\n    </tr>\n  </tbody>\n</table>\n</div>"
     },
     "execution_count": 12,
     "metadata": {},
     "output_type": "execute_result"
    }
   ],
   "source": [
    "df.sample(2)  # 随机抽取(n）条"
   ]
  },
  {
   "cell_type": "markdown",
   "source": [
    "## 1.3.5 验证数据\n",
    "df.shape # (100, 6) 查看行数和列数\n",
    "df.info() # 查看索引、数据类型和内存信息\n",
    "df.describe() # 查看数值型列的汇总统计\n",
    "df.dtypes # 查看各字段类型\n",
    "df.axes # 显示数据行和列名\n",
    "df.columns # 列名\n"
   ],
   "metadata": {
    "collapsed": false
   }
  },
  {
   "cell_type": "code",
   "outputs": [
    {
     "data": {
      "text/plain": "(100, 6)"
     },
     "execution_count": 13,
     "metadata": {},
     "output_type": "execute_result"
    }
   ],
   "source": [
    "df.shape # (100, 6) 查看行数和列数 100行 6列"
   ],
   "metadata": {
    "collapsed": false,
    "ExecuteTime": {
     "end_time": "2024-02-21T16:03:04.175500900Z",
     "start_time": "2024-02-21T16:03:04.160571300Z"
    }
   },
   "execution_count": 13
  },
  {
   "cell_type": "code",
   "outputs": [
    {
     "name": "stdout",
     "output_type": "stream",
     "text": [
      "<class 'pandas.core.frame.DataFrame'>\n",
      "RangeIndex: 100 entries, 0 to 99\n",
      "Data columns (total 6 columns):\n",
      " #   Column  Non-Null Count  Dtype \n",
      "---  ------  --------------  ----- \n",
      " 0   name    100 non-null    object\n",
      " 1   team    100 non-null    object\n",
      " 2   Q1      100 non-null    int64 \n",
      " 3   Q2      100 non-null    int64 \n",
      " 4   Q3      100 non-null    int64 \n",
      " 5   Q4      100 non-null    int64 \n",
      "dtypes: int64(4), object(2)\n",
      "memory usage: 4.8+ KB\n"
     ]
    }
   ],
   "source": [
    "df.info()"
   ],
   "metadata": {
    "collapsed": false,
    "ExecuteTime": {
     "end_time": "2024-02-21T16:03:17.457291Z",
     "start_time": "2024-02-21T16:03:17.427770400Z"
    }
   },
   "execution_count": 14
  },
  {
   "cell_type": "code",
   "outputs": [
    {
     "data": {
      "text/plain": "               Q1          Q2          Q3          Q4\ncount  100.000000  100.000000  100.000000  100.000000\nmean    49.200000   52.550000   52.670000   52.780000\nstd     29.962603   29.845181   26.543677   27.818524\nmin      1.000000    1.000000    1.000000    2.000000\n25%     19.500000   26.750000   29.500000   29.500000\n50%     51.500000   49.500000   55.000000   53.000000\n75%     74.250000   77.750000   76.250000   75.250000\nmax     98.000000   99.000000   99.000000   99.000000",
      "text/html": "<div>\n<style scoped>\n    .dataframe tbody tr th:only-of-type {\n        vertical-align: middle;\n    }\n\n    .dataframe tbody tr th {\n        vertical-align: top;\n    }\n\n    .dataframe thead th {\n        text-align: right;\n    }\n</style>\n<table border=\"1\" class=\"dataframe\">\n  <thead>\n    <tr style=\"text-align: right;\">\n      <th></th>\n      <th>Q1</th>\n      <th>Q2</th>\n      <th>Q3</th>\n      <th>Q4</th>\n    </tr>\n  </thead>\n  <tbody>\n    <tr>\n      <th>count</th>\n      <td>100.000000</td>\n      <td>100.000000</td>\n      <td>100.000000</td>\n      <td>100.000000</td>\n    </tr>\n    <tr>\n      <th>mean</th>\n      <td>49.200000</td>\n      <td>52.550000</td>\n      <td>52.670000</td>\n      <td>52.780000</td>\n    </tr>\n    <tr>\n      <th>std</th>\n      <td>29.962603</td>\n      <td>29.845181</td>\n      <td>26.543677</td>\n      <td>27.818524</td>\n    </tr>\n    <tr>\n      <th>min</th>\n      <td>1.000000</td>\n      <td>1.000000</td>\n      <td>1.000000</td>\n      <td>2.000000</td>\n    </tr>\n    <tr>\n      <th>25%</th>\n      <td>19.500000</td>\n      <td>26.750000</td>\n      <td>29.500000</td>\n      <td>29.500000</td>\n    </tr>\n    <tr>\n      <th>50%</th>\n      <td>51.500000</td>\n      <td>49.500000</td>\n      <td>55.000000</td>\n      <td>53.000000</td>\n    </tr>\n    <tr>\n      <th>75%</th>\n      <td>74.250000</td>\n      <td>77.750000</td>\n      <td>76.250000</td>\n      <td>75.250000</td>\n    </tr>\n    <tr>\n      <th>max</th>\n      <td>98.000000</td>\n      <td>99.000000</td>\n      <td>99.000000</td>\n      <td>99.000000</td>\n    </tr>\n  </tbody>\n</table>\n</div>"
     },
     "execution_count": 15,
     "metadata": {},
     "output_type": "execute_result"
    }
   ],
   "source": [
    "df.describe()"
   ],
   "metadata": {
    "collapsed": false,
    "ExecuteTime": {
     "end_time": "2024-02-21T16:06:22.343573500Z",
     "start_time": "2024-02-21T16:06:22.290542800Z"
    }
   },
   "execution_count": 15
  },
  {
   "cell_type": "code",
   "outputs": [],
   "source": [],
   "metadata": {
    "collapsed": false
   }
  }
 ],
 "metadata": {
  "kernelspec": {
   "display_name": "Python 3",
   "language": "python",
   "name": "python3"
  },
  "language_info": {
   "codemirror_mode": {
    "name": "ipython",
    "version": 3
   },
   "file_extension": ".py",
   "mimetype": "text/x-python",
   "name": "python",
   "nbconvert_exporter": "python",
   "pygments_lexer": "ipython3",
   "version": "3.12.0"
  }
 },
 "nbformat": 4,
 "nbformat_minor": 2
}
