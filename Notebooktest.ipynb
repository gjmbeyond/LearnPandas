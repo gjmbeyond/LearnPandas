{
 "cells": [
  {
   "cell_type": "code",
   "execution_count": 2,
   "metadata": {
    "ExecuteTime": {
     "end_time": "2024-02-23T12:40:35.321320900Z",
     "start_time": "2024-02-23T12:40:30.536778Z"
    }
   },
   "outputs": [
    {
     "name": "stderr",
     "output_type": "stream",
     "text": [
      "C:\\Users\\BenjaminKwok\\AppData\\Local\\Temp\\ipykernel_18404\\493529377.py:1: DeprecationWarning: \n",
      "Pyarrow will become a required dependency of pandas in the next major release of pandas (pandas 3.0),\n",
      "(to allow more performant data types, such as the Arrow string type, and better interoperability with other libraries)\n",
      "but was not found to be installed on your system.\n",
      "If this would cause problems for you,\n",
      "please provide us feedback at https://github.com/pandas-dev/pandas/issues/54466\n",
      "        \n",
      "  import pandas as pd # 引入Pandas库，按惯例起别名pd\n"
     ]
    }
   ],
   "source": [
    "import pandas as pd # 引入Pandas库，按惯例起别名pd\n",
    "df = pd.read_excel('https://www.gairuo.com/file/data/dataset/team.xlsx')"
   ]
  },
  {
   "cell_type": "code",
   "execution_count": 3,
   "metadata": {
    "ExecuteTime": {
     "end_time": "2024-02-23T12:40:35.396796300Z",
     "start_time": "2024-02-23T12:40:35.325324300Z"
    }
   },
   "outputs": [
    {
     "data": {
      "text/plain": "        name team  Q1  Q2  Q3  Q4\n0      Liver    E  89  21  24  64\n1       Arry    C  36  37  37  57\n2        Ack    A  57  60  18  84\n3      Eorge    C  93  96  71  78\n4        Oah    D  65  49  61  86\n..       ...  ...  ..  ..  ..  ..\n95   Gabriel    C  48  59  87  74\n96   Austin7    C  21  31  30  43\n97  Lincoln4    C  98  93   1  20\n98       Eli    E  11  74  58  91\n99       Ben    E  21  43  41  74\n\n[100 rows x 6 columns]",
      "text/html": "<div>\n<style scoped>\n    .dataframe tbody tr th:only-of-type {\n        vertical-align: middle;\n    }\n\n    .dataframe tbody tr th {\n        vertical-align: top;\n    }\n\n    .dataframe thead th {\n        text-align: right;\n    }\n</style>\n<table border=\"1\" class=\"dataframe\">\n  <thead>\n    <tr style=\"text-align: right;\">\n      <th></th>\n      <th>name</th>\n      <th>team</th>\n      <th>Q1</th>\n      <th>Q2</th>\n      <th>Q3</th>\n      <th>Q4</th>\n    </tr>\n  </thead>\n  <tbody>\n    <tr>\n      <th>0</th>\n      <td>Liver</td>\n      <td>E</td>\n      <td>89</td>\n      <td>21</td>\n      <td>24</td>\n      <td>64</td>\n    </tr>\n    <tr>\n      <th>1</th>\n      <td>Arry</td>\n      <td>C</td>\n      <td>36</td>\n      <td>37</td>\n      <td>37</td>\n      <td>57</td>\n    </tr>\n    <tr>\n      <th>2</th>\n      <td>Ack</td>\n      <td>A</td>\n      <td>57</td>\n      <td>60</td>\n      <td>18</td>\n      <td>84</td>\n    </tr>\n    <tr>\n      <th>3</th>\n      <td>Eorge</td>\n      <td>C</td>\n      <td>93</td>\n      <td>96</td>\n      <td>71</td>\n      <td>78</td>\n    </tr>\n    <tr>\n      <th>4</th>\n      <td>Oah</td>\n      <td>D</td>\n      <td>65</td>\n      <td>49</td>\n      <td>61</td>\n      <td>86</td>\n    </tr>\n    <tr>\n      <th>...</th>\n      <td>...</td>\n      <td>...</td>\n      <td>...</td>\n      <td>...</td>\n      <td>...</td>\n      <td>...</td>\n    </tr>\n    <tr>\n      <th>95</th>\n      <td>Gabriel</td>\n      <td>C</td>\n      <td>48</td>\n      <td>59</td>\n      <td>87</td>\n      <td>74</td>\n    </tr>\n    <tr>\n      <th>96</th>\n      <td>Austin7</td>\n      <td>C</td>\n      <td>21</td>\n      <td>31</td>\n      <td>30</td>\n      <td>43</td>\n    </tr>\n    <tr>\n      <th>97</th>\n      <td>Lincoln4</td>\n      <td>C</td>\n      <td>98</td>\n      <td>93</td>\n      <td>1</td>\n      <td>20</td>\n    </tr>\n    <tr>\n      <th>98</th>\n      <td>Eli</td>\n      <td>E</td>\n      <td>11</td>\n      <td>74</td>\n      <td>58</td>\n      <td>91</td>\n    </tr>\n    <tr>\n      <th>99</th>\n      <td>Ben</td>\n      <td>E</td>\n      <td>21</td>\n      <td>43</td>\n      <td>41</td>\n      <td>74</td>\n    </tr>\n  </tbody>\n</table>\n<p>100 rows × 6 columns</p>\n</div>"
     },
     "execution_count": 3,
     "metadata": {},
     "output_type": "execute_result"
    }
   ],
   "source": [
    "df  # 直接显示读取到的xlsx文件"
   ]
  },
  {
   "cell_type": "markdown",
   "source": [
    "## 1.3.4 查看数据\n",
    "df.head() # 查看前5条，括号里可以写明你想看的条数\n",
    "df.tail() # 查看尾部5条\n",
    "df.sample(5) # 随机查看5条"
   ],
   "metadata": {
    "collapsed": false
   }
  },
  {
   "cell_type": "code",
   "execution_count": 4,
   "metadata": {
    "ExecuteTime": {
     "end_time": "2024-02-23T12:40:35.399911100Z",
     "start_time": "2024-02-23T12:40:35.375787Z"
    }
   },
   "outputs": [
    {
     "data": {
      "text/plain": "    name team  Q1  Q2  Q3  Q4\n0  Liver    E  89  21  24  64\n1   Arry    C  36  37  37  57\n2    Ack    A  57  60  18  84",
      "text/html": "<div>\n<style scoped>\n    .dataframe tbody tr th:only-of-type {\n        vertical-align: middle;\n    }\n\n    .dataframe tbody tr th {\n        vertical-align: top;\n    }\n\n    .dataframe thead th {\n        text-align: right;\n    }\n</style>\n<table border=\"1\" class=\"dataframe\">\n  <thead>\n    <tr style=\"text-align: right;\">\n      <th></th>\n      <th>name</th>\n      <th>team</th>\n      <th>Q1</th>\n      <th>Q2</th>\n      <th>Q3</th>\n      <th>Q4</th>\n    </tr>\n  </thead>\n  <tbody>\n    <tr>\n      <th>0</th>\n      <td>Liver</td>\n      <td>E</td>\n      <td>89</td>\n      <td>21</td>\n      <td>24</td>\n      <td>64</td>\n    </tr>\n    <tr>\n      <th>1</th>\n      <td>Arry</td>\n      <td>C</td>\n      <td>36</td>\n      <td>37</td>\n      <td>37</td>\n      <td>57</td>\n    </tr>\n    <tr>\n      <th>2</th>\n      <td>Ack</td>\n      <td>A</td>\n      <td>57</td>\n      <td>60</td>\n      <td>18</td>\n      <td>84</td>\n    </tr>\n  </tbody>\n</table>\n</div>"
     },
     "execution_count": 4,
     "metadata": {},
     "output_type": "execute_result"
    }
   ],
   "source": [
    "df.head(3)  # 查看前3条，()默认5条，索引从0开始，0,1,2"
   ]
  },
  {
   "cell_type": "code",
   "execution_count": 5,
   "metadata": {
    "ExecuteTime": {
     "end_time": "2024-02-23T12:40:35.515263200Z",
     "start_time": "2024-02-23T12:40:35.402645500Z"
    }
   },
   "outputs": [
    {
     "data": {
      "text/plain": "        name team  Q1  Q2  Q3  Q4\n97  Lincoln4    C  98  93   1  20\n98       Eli    E  11  74  58  91\n99       Ben    E  21  43  41  74",
      "text/html": "<div>\n<style scoped>\n    .dataframe tbody tr th:only-of-type {\n        vertical-align: middle;\n    }\n\n    .dataframe tbody tr th {\n        vertical-align: top;\n    }\n\n    .dataframe thead th {\n        text-align: right;\n    }\n</style>\n<table border=\"1\" class=\"dataframe\">\n  <thead>\n    <tr style=\"text-align: right;\">\n      <th></th>\n      <th>name</th>\n      <th>team</th>\n      <th>Q1</th>\n      <th>Q2</th>\n      <th>Q3</th>\n      <th>Q4</th>\n    </tr>\n  </thead>\n  <tbody>\n    <tr>\n      <th>97</th>\n      <td>Lincoln4</td>\n      <td>C</td>\n      <td>98</td>\n      <td>93</td>\n      <td>1</td>\n      <td>20</td>\n    </tr>\n    <tr>\n      <th>98</th>\n      <td>Eli</td>\n      <td>E</td>\n      <td>11</td>\n      <td>74</td>\n      <td>58</td>\n      <td>91</td>\n    </tr>\n    <tr>\n      <th>99</th>\n      <td>Ben</td>\n      <td>E</td>\n      <td>21</td>\n      <td>43</td>\n      <td>41</td>\n      <td>74</td>\n    </tr>\n  </tbody>\n</table>\n</div>"
     },
     "execution_count": 5,
     "metadata": {},
     "output_type": "execute_result"
    }
   ],
   "source": [
    "df.tail(3)  # 查看倒数3行，()默认3条"
   ]
  },
  {
   "cell_type": "code",
   "execution_count": 6,
   "metadata": {
    "ExecuteTime": {
     "end_time": "2024-02-23T12:40:35.748123800Z",
     "start_time": "2024-02-23T12:40:35.447230100Z"
    }
   },
   "outputs": [
    {
     "data": {
      "text/plain": "       name team  Q1  Q2  Q3  Q4\n86    Calum    C  14  91  16  82\n55  Zachary    E  12  71  85  93",
      "text/html": "<div>\n<style scoped>\n    .dataframe tbody tr th:only-of-type {\n        vertical-align: middle;\n    }\n\n    .dataframe tbody tr th {\n        vertical-align: top;\n    }\n\n    .dataframe thead th {\n        text-align: right;\n    }\n</style>\n<table border=\"1\" class=\"dataframe\">\n  <thead>\n    <tr style=\"text-align: right;\">\n      <th></th>\n      <th>name</th>\n      <th>team</th>\n      <th>Q1</th>\n      <th>Q2</th>\n      <th>Q3</th>\n      <th>Q4</th>\n    </tr>\n  </thead>\n  <tbody>\n    <tr>\n      <th>86</th>\n      <td>Calum</td>\n      <td>C</td>\n      <td>14</td>\n      <td>91</td>\n      <td>16</td>\n      <td>82</td>\n    </tr>\n    <tr>\n      <th>55</th>\n      <td>Zachary</td>\n      <td>E</td>\n      <td>12</td>\n      <td>71</td>\n      <td>85</td>\n      <td>93</td>\n    </tr>\n  </tbody>\n</table>\n</div>"
     },
     "execution_count": 6,
     "metadata": {},
     "output_type": "execute_result"
    }
   ],
   "source": [
    "df.sample(2)  # 随机抽取(n）条"
   ]
  },
  {
   "cell_type": "markdown",
   "source": [
    "## 1.3.5 验证数据\n",
    "df.shape # (100, 6) 查看行数和列数\n",
    "df.info() # 查看索引、数据类型和内存信息\n",
    "df.describe() # 查看数值型列的汇总统计\n",
    "df.dtypes # 查看各字段类型\n",
    "df.axes # 显示数据行和列名\n",
    "df.columns # 列名\n"
   ],
   "metadata": {
    "collapsed": false
   }
  },
  {
   "cell_type": "code",
   "outputs": [
    {
     "data": {
      "text/plain": "(100, 6)"
     },
     "execution_count": 9,
     "metadata": {},
     "output_type": "execute_result"
    }
   ],
   "source": [
    "df.shape # (100, 6) 查看行数和列数 100行 6列"
   ],
   "metadata": {
    "collapsed": false,
    "ExecuteTime": {
     "end_time": "2024-02-23T12:43:05.068008400Z",
     "start_time": "2024-02-23T12:43:04.985273500Z"
    }
   },
   "execution_count": 9
  },
  {
   "cell_type": "code",
   "outputs": [
    {
     "name": "stdout",
     "output_type": "stream",
     "text": [
      "<class 'pandas.core.frame.DataFrame'>\n",
      "RangeIndex: 100 entries, 0 to 99\n",
      "Data columns (total 6 columns):\n",
      " #   Column  Non-Null Count  Dtype \n",
      "---  ------  --------------  ----- \n",
      " 0   name    100 non-null    object\n",
      " 1   team    100 non-null    object\n",
      " 2   Q1      100 non-null    int64 \n",
      " 3   Q2      100 non-null    int64 \n",
      " 4   Q3      100 non-null    int64 \n",
      " 5   Q4      100 non-null    int64 \n",
      "dtypes: int64(4), object(2)\n",
      "memory usage: 4.8+ KB\n"
     ]
    }
   ],
   "source": [
    "df.info()"
   ],
   "metadata": {
    "collapsed": false,
    "ExecuteTime": {
     "end_time": "2024-02-23T12:43:10.921213500Z",
     "start_time": "2024-02-23T12:43:10.805709900Z"
    }
   },
   "execution_count": 10
  },
  {
   "cell_type": "code",
   "outputs": [
    {
     "data": {
      "text/plain": "               Q1          Q2          Q3          Q4\ncount  100.000000  100.000000  100.000000  100.000000\nmean    49.200000   52.550000   52.670000   52.780000\nstd     29.962603   29.845181   26.543677   27.818524\nmin      1.000000    1.000000    1.000000    2.000000\n25%     19.500000   26.750000   29.500000   29.500000\n50%     51.500000   49.500000   55.000000   53.000000\n75%     74.250000   77.750000   76.250000   75.250000\nmax     98.000000   99.000000   99.000000   99.000000",
      "text/html": "<div>\n<style scoped>\n    .dataframe tbody tr th:only-of-type {\n        vertical-align: middle;\n    }\n\n    .dataframe tbody tr th {\n        vertical-align: top;\n    }\n\n    .dataframe thead th {\n        text-align: right;\n    }\n</style>\n<table border=\"1\" class=\"dataframe\">\n  <thead>\n    <tr style=\"text-align: right;\">\n      <th></th>\n      <th>Q1</th>\n      <th>Q2</th>\n      <th>Q3</th>\n      <th>Q4</th>\n    </tr>\n  </thead>\n  <tbody>\n    <tr>\n      <th>count</th>\n      <td>100.000000</td>\n      <td>100.000000</td>\n      <td>100.000000</td>\n      <td>100.000000</td>\n    </tr>\n    <tr>\n      <th>mean</th>\n      <td>49.200000</td>\n      <td>52.550000</td>\n      <td>52.670000</td>\n      <td>52.780000</td>\n    </tr>\n    <tr>\n      <th>std</th>\n      <td>29.962603</td>\n      <td>29.845181</td>\n      <td>26.543677</td>\n      <td>27.818524</td>\n    </tr>\n    <tr>\n      <th>min</th>\n      <td>1.000000</td>\n      <td>1.000000</td>\n      <td>1.000000</td>\n      <td>2.000000</td>\n    </tr>\n    <tr>\n      <th>25%</th>\n      <td>19.500000</td>\n      <td>26.750000</td>\n      <td>29.500000</td>\n      <td>29.500000</td>\n    </tr>\n    <tr>\n      <th>50%</th>\n      <td>51.500000</td>\n      <td>49.500000</td>\n      <td>55.000000</td>\n      <td>53.000000</td>\n    </tr>\n    <tr>\n      <th>75%</th>\n      <td>74.250000</td>\n      <td>77.750000</td>\n      <td>76.250000</td>\n      <td>75.250000</td>\n    </tr>\n    <tr>\n      <th>max</th>\n      <td>98.000000</td>\n      <td>99.000000</td>\n      <td>99.000000</td>\n      <td>99.000000</td>\n    </tr>\n  </tbody>\n</table>\n</div>"
     },
     "execution_count": 12,
     "metadata": {},
     "output_type": "execute_result"
    }
   ],
   "source": [
    "df.describe()  # count总数目  mean均值 std标准差 "
   ],
   "metadata": {
    "collapsed": false,
    "ExecuteTime": {
     "end_time": "2024-02-23T12:44:07.859221300Z",
     "start_time": "2024-02-23T12:44:07.809315700Z"
    }
   },
   "execution_count": 12
  },
  {
   "cell_type": "code",
   "outputs": [
    {
     "data": {
      "text/plain": "name    object\nteam    object\nQ1       int64\nQ2       int64\nQ3       int64\nQ4       int64\ndtype: object"
     },
     "execution_count": 13,
     "metadata": {},
     "output_type": "execute_result"
    }
   ],
   "source": [
    "df.dtypes"
   ],
   "metadata": {
    "collapsed": false,
    "ExecuteTime": {
     "end_time": "2024-02-23T12:44:56.624803100Z",
     "start_time": "2024-02-23T12:44:56.557197600Z"
    }
   },
   "execution_count": 13
  },
  {
   "cell_type": "code",
   "outputs": [],
   "source": [],
   "metadata": {
    "collapsed": false
   }
  }
 ],
 "metadata": {
  "kernelspec": {
   "display_name": "Python 3",
   "language": "python",
   "name": "python3"
  },
  "language_info": {
   "codemirror_mode": {
    "name": "ipython",
    "version": 3
   },
   "file_extension": ".py",
   "mimetype": "text/x-python",
   "name": "python",
   "nbconvert_exporter": "python",
   "pygments_lexer": "ipython3",
   "version": "3.12.0"
  }
 },
 "nbformat": 4,
 "nbformat_minor": 2
}
